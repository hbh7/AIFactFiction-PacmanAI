{
  "nbformat": 4,
  "nbformat_minor": 0,
  "metadata": {
    "kernelspec": {
      "name": "python3",
      "display_name": "Python 3"
    },
    "colab": {
      "name": "AIFactFiction_FinalProject.ipynb",
      "provenance": [],
      "collapsed_sections": []
    },
    "accelerator": "GPU"
  },
  "cells": [
    {
      "cell_type": "markdown",
      "metadata": {
        "id": "KfOuv88IHJTV",
        "colab_type": "text"
      },
      "source": [
        "# Using Deep-Q Reinforcement Learning to To Train a Mrs. Pacman AI Using Deep Q Network\n",
        "### Credit to Adrian Yijie Xu.\n",
        "### Customization by Ivan Hammel, Hunter Harris, Kevin Scott, Lyle Tingle, William Lyons\n",
        "\n",
        "###### Implementation in Tensorflow 1.x\n",
        "###### Original Code:\n",
        "https://github.com/EXJUSTICE/Deep_Q-learning_OpenAI_MissPacman.\n",
        "###### Original Model's Explanation: \n",
        "https://towardsdatascience.com/automating-pac-man-with-deep-q-learning-an-implementation-in-tensorflow-ca08e9891d9c"
      ]
    },
    {
      "cell_type": "markdown",
      "metadata": {
        "id": "OXFGwm71ousE",
        "colab_type": "text"
      },
      "source": [
        "## Training"
      ]
    },
    {
      "cell_type": "markdown",
      "metadata": {
        "collapsed": true,
        "id": "hXTjaJqNHJTa",
        "colab_type": "text"
      },
      "source": [
        "### Libraries\n",
        "\n",
        "First we import all the necessary libraries </font> \n"
      ]
    },
    {
      "cell_type": "code",
      "metadata": {
        "id": "8tOsJduRYG6k",
        "colab_type": "code",
        "colab": {}
      },
      "source": [
        "%tensorflow_version 1.x"
      ],
      "execution_count": null,
      "outputs": []
    },
    {
      "cell_type": "code",
      "metadata": {
        "id": "ms0B7dnLHJTc",
        "colab_type": "code",
        "colab": {
          "base_uri": "https://localhost:8080/",
          "height": 35
        },
        "outputId": "36d2ca93-0a64-430d-82b9-e02bc60913b8"
      },
      "source": [
        "import gym\n",
        "import random\n",
        "import numpy as np\n",
        "import tensorflow as tf\n",
        "from datetime import datetime\n",
        "import matplotlib.pyplot as plt\n",
        "from collections import deque, Counter\n",
        "from tensorflow.contrib.layers import flatten, conv2d, fully_connected\n",
        "print(tf.__version__)"
      ],
      "execution_count": null,
      "outputs": [
        {
          "output_type": "stream",
          "text": [
            "1.15.2\n"
          ],
          "name": "stdout"
        }
      ]
    },
    {
      "cell_type": "markdown",
      "metadata": {
        "id": "hQv4HgrPtA3G",
        "colab_type": "text"
      },
      "source": [
        "Check if GPU is available and can be used"
      ]
    },
    {
      "cell_type": "code",
      "metadata": {
        "id": "GVIsFGZcs_Hr",
        "colab_type": "code",
        "colab": {
          "base_uri": "https://localhost:8080/",
          "height": 35
        },
        "outputId": "d25b1625-6933-4cc3-d723-ec039fd38ac2"
      },
      "source": [
        "GPU = True\n",
        "device_name = tf.test.gpu_device_name()\n",
        "if device_name != '/device:GPU:0':\n",
        "  print('GPU device not found')\n",
        "  GPU = False\n",
        "print('Found GPU at: {}'.format(device_name))"
      ],
      "execution_count": null,
      "outputs": [
        {
          "output_type": "stream",
          "text": [
            "Found GPU at: /device:GPU:0\n"
          ],
          "name": "stdout"
        }
      ]
    },
    {
      "cell_type": "markdown",
      "metadata": {
        "collapsed": true,
        "id": "wXDlF6cdHJTj",
        "colab_type": "text"
      },
      "source": [
        "### Preprocessing\n",
        "* By cropping the image and changing the colours to enhance Ms. Pacman's contrast the inputs will look more distinct to the model\n",
        "* This makes it easier for the model to associate state-rewards-action pairings"
      ]
    },
    {
      "cell_type": "code",
      "metadata": {
        "id": "29CSBYkPHJTl",
        "colab_type": "code",
        "colab": {}
      },
      "source": [
        "# Choose Ms. Pacman color to enchance contrast of Ms. Pacman vs rest of ghosts/game\n",
        "color = np.array([210, 164, 74]).mean()\n",
        "\n",
        "def preprocess_observation(obs):\n",
        "\n",
        "    # Crop and resize the image\n",
        "    img = obs[1:172:2, ::2]\n",
        "\n",
        "    # Convert the image to greyscale\n",
        "    img = img.mean(axis=2)\n",
        "\n",
        "    # Improve image contrast\n",
        "    img[img==color] = 0\n",
        "\n",
        "    # Next we normalize the image from -1 to +1\n",
        "    img = (img - 128) / 128 - 1\n",
        "\n",
        "    return img.reshape(86,80,1)\n"
      ],
      "execution_count": null,
      "outputs": []
    },
    {
      "cell_type": "markdown",
      "metadata": {
        "id": "Y1qZntlnHJTs",
        "colab_type": "text"
      },
      "source": [
        "### Preprocessing Display\n",
        "*   Here we initialize the OpenAIGym MsPacman Atari 2600 environment and list the possible actions.\n",
        "*   Afterwards we display the input screen before, druing and after processing\n",
        "\n"
      ]
    },
    {
      "cell_type": "code",
      "metadata": {
        "id": "jnbrjWstHJTu",
        "colab_type": "code",
        "colab": {
          "base_uri": "https://localhost:8080/",
          "height": 591
        },
        "outputId": "13b99a65-fdf9-4cd1-a391-6ffc61c0cd80"
      },
      "source": [
        "# Create environment and list possible actions\n",
        "env = gym.make(\"MsPacman-v0\")\n",
        "n_outputs = env.action_space.n\n",
        "print(n_outputs)\n",
        "print(env.env.get_action_meanings())\n",
        "\n",
        "# Create and show input, before and after pre-processing\n",
        "observation = env.reset()\n",
        "plt.imshow(observation)\n",
        "plt.show()\n",
        "\n",
        "obs_preprocessed = preprocess_observation(observation).reshape(86,80)\n",
        "plt.imshow(obs_preprocessed)\n",
        "plt.show()\n",
        "print(observation.shape)\n",
        "print(obs_preprocessed.shape)"
      ],
      "execution_count": null,
      "outputs": [
        {
          "output_type": "stream",
          "text": [
            "9\n",
            "['NOOP', 'UP', 'RIGHT', 'LEFT', 'DOWN', 'UPRIGHT', 'UPLEFT', 'DOWNRIGHT', 'DOWNLEFT']\n"
          ],
          "name": "stdout"
        },
        {
          "output_type": "display_data",
          "data": {
            "image/png": "[encoded data removed]",
            "text/plain": [
              "<Figure size 432x288 with 1 Axes>"
            ]
          },
          "metadata": {
            "tags": [],
            "needs_background": "light"
          }
        },
        {
          "output_type": "display_data",
          "data": {
            "image/png": "[encoded data removed]",
            "text/plain": [
              "<Figure size 432x288 with 1 Axes>"
            ]
          },
          "metadata": {
            "tags": [],
            "needs_background": "light"
          }
        },
        {
          "output_type": "stream",
          "text": [
            "(210, 160, 3)\n",
            "(86, 80)\n"
          ],
          "name": "stdout"
        }
      ]
    },
    {
      "cell_type": "markdown",
      "metadata": {
        "collapsed": true,
        "id": "t5lhlUdqHJT2",
        "colab_type": "text"
      },
      "source": [
        "# Deep-Q Neural Network\n",
        "* The Deep-Q NN is built as a function called q_network\n",
        "* q_network has three convolutional layers, each with decreasing kernel and strides, with appropriate padding to ensure dimensions are kept ('padding=SAME').\n",
        "* Afterwards the matrix is flattened and fed into two fully connected layers.\n",
        "* The first fully connected layer uses a ReLU activation (default)\n",
        "* The last does not apply an activation function in order to output display "
      ]
    },
    {
      "cell_type": "code",
      "metadata": {
        "id": "J4Cco6huHJT4",
        "colab_type": "code",
        "colab": {}
      },
      "source": [
        "tf.compat.v1.reset_default_graph()\n",
        "#Reset is technically not necessary if variables done  in TF2\n",
        "#https://github.com/ageron/tf2_course/issues/8\n",
        "\n",
        "def q_network(X, name_scope):\n",
        "    \n",
        "    # Initialize layers\n",
        "    initializer = tf.compat.v1.keras.initializers.VarianceScaling(scale=2.0, distribution='normal')\n",
        "    if (GPU): processing_device = '/device:GPU:0'\n",
        "    else: processing_device = '/cpu:0'\n",
        "\n",
        "    with tf.device(processing_device):\n",
        "      with tf.compat.v1.variable_scope(name_scope) as scope: \n",
        "          # initialize the convolutional layers\n",
        "          layer_1 = conv2d(X, num_outputs=32, kernel_size=(8,8), stride=4, padding='SAME', weights_initializer=initializer) \n",
        "          layer_2 = conv2d(layer_1, num_outputs=64, kernel_size=(4,4), stride=2, padding='SAME', weights_initializer=initializer)\n",
        "          layer_3 = conv2d(layer_2, num_outputs=64, kernel_size=(3,3), stride=1, padding='SAME', weights_initializer=initializer)\n",
        "          \n",
        "          # Flatten the result of layer_3 before feeding to the fully connected layer\n",
        "          flat = flatten(layer_3)\n",
        "          # Insert fully connected layer\n",
        "          fc = fully_connected(flat, num_outputs=128, weights_initializer=initializer)\n",
        "\n",
        "          #Add final output layer\n",
        "          output = fully_connected(fc, num_outputs=n_outputs, activation_fn=None, weights_initializer=initializer) \n",
        "\n",
        "          # Vars will store the parameters of the network such as weights\n",
        "          vars = {v.name[len(scope.name):]: v for v in tf.compat.v1.get_collection(key=tf.compat.v1.GraphKeys.TRAINABLE_VARIABLES, scope=scope.name)} \n",
        "          #Return both variables and outputs together\n",
        "          return vars, output"
      ],
      "execution_count": null,
      "outputs": []
    },
    {
      "cell_type": "markdown",
      "metadata": {
        "id": "fsuM5sy3HJT9",
        "colab_type": "text"
      },
      "source": [
        "### Epsilon_greedy function.\n",
        "\n",
        "* Selects the best action (probability p = [1 - epsilon]) or it selects a random action ( probability [epsilon] ).\n",
        "* This random aspects prevents overtraining and inescapable loops, as it forces the model to take actions that may be short term sub-optimal, but ong term optimal.\n",
        "* As time passes the model is more likely to have explored all paths and therefore the optimal choice is more likely to be correct, hence exploring is less important and epsilon can be decreased to 5%"
      ]
    },
    {
      "cell_type": "code",
      "metadata": {
        "id": "pSgZ4PHaHJT_",
        "colab_type": "code",
        "colab": {}
      },
      "source": [
        "# Explora a lot > 50% at the beginning and a little <5% at the end\n",
        "epsilon = 0.60\n",
        "eps_min = 0.05\n",
        "eps_max = 1.00\n",
        "eps_decay_steps = 500000\n",
        "\n",
        "def epsilon_greedy(action, step):\n",
        "    p = np.random.random(1).squeeze() #1D entries returned using squeeze\n",
        "    epsilon = max(eps_min, eps_max - (eps_max-eps_min) * step/eps_decay_steps) #Decaying policy with more steps\n",
        "    if np.random.rand() < epsilon:\n",
        "        return np.random.randint(n_outputs)\n",
        "    else:\n",
        "        return action"
      ],
      "execution_count": null,
      "outputs": []
    },
    {
      "cell_type": "markdown",
      "metadata": {
        "id": "uK5Ev_r-HJUD",
        "colab_type": "text"
      },
      "source": [
        "### Buffer\n",
        "* Stores gameplay information in SARSA (state–action–reward–state–action).\n",
        "* Uses this information for Deep-Q\n",
        "We store all the agent's experience i.e (state, action, rewards) in the experience replay buffer\n",
        "and  we sample from this minibatch of experience for generating the y-values for the update function, and hence train the network.\n",
        "* Since experiences matter less the farther away they are the entire game does not need to be stored, 2000 is sufficient until the next state-action-reward pair is so far in the future or past as to be irrelevant\n",
        "\n"
      ]
    },
    {
      "cell_type": "code",
      "metadata": {
        "id": "_DU5VHc-HJUE",
        "colab_type": "code",
        "colab": {}
      },
      "source": [
        "buffer_len = 20000\n",
        "#Buffer is made from a deque - double ended queue\n",
        "exp_buffer = deque(maxlen=buffer_len)"
      ],
      "execution_count": null,
      "outputs": []
    },
    {
      "cell_type": "markdown",
      "metadata": {
        "id": "r-jwru2THJUI",
        "colab_type": "text"
      },
      "source": [
        "Next, we define a function called sample_memories for sampling experiences from the memory according to batches. Batch size is the number of experience sampled\n",
        "from the memory.\n"
      ]
    },
    {
      "cell_type": "code",
      "metadata": {
        "id": "em_AW8I7HJUJ",
        "colab_type": "code",
        "colab": {}
      },
      "source": [
        "def sample_memories(batch_size):\n",
        "    perm_batch = np.random.permutation(len(exp_buffer))[:batch_size]\n",
        "    mem = np.array(exp_buffer)[perm_batch]\n",
        "    return mem[:,0], mem[:,1], mem[:,2], mem[:,3], mem[:,4]\n"
      ],
      "execution_count": null,
      "outputs": []
    },
    {
      "cell_type": "markdown",
      "metadata": {
        "id": "zTRBSM53HJUM",
        "colab_type": "text"
      },
      "source": [
        "### Hyperparamaters\n",
        "* num_episodes = Number of episodes to train for\n",
        "* batch_size = number of experience sampled from the memory\n",
        "* input_shape = X_shape = ( # of images, y, x, channels )\n",
        "* learning_rate = rate of change of parameters as discussed in class\n",
        "* discount_factor = propagating discount of future rewards\n",
        "\n",
        "\n",
        "* global_step = running counter of how many moves taken\n",
        "* copy_steps = amount of steps befor copying training network weights to data generating network\n",
        "* steps_train = Period after which model is updated with new data\n",
        "\n",
        "\n",
        "* NO_SCORE_LIMIT = Number of frames without getting any points before points are deducted\n",
        "* TIME_LIMIT = Number of frames in a fast play of level 1; if passed, points are deducted\n",
        "* FRAMES_PER_POINT = Number of frames that pass before 10 points are deducted"
      ]
    },
    {
      "cell_type": "code",
      "metadata": {
        "id": "r1iZveLKHJUN",
        "colab_type": "code",
        "colab": {}
      },
      "source": [
        "num_episodes = 400\n",
        "batch_size = 48\n",
        "input_shape = (None, 86, 80, 1)\n",
        "learning_rate = 0.005\n",
        "X_shape = (None, 86, 80, 1)\n",
        "discount_factor = 0.97\n",
        "\n",
        "global_step = 0\n",
        "copy_steps = 100\n",
        "steps_train = 4\n",
        "start_steps = 2000\n",
        "\n",
        "# Custom Scoring Parameters\n",
        "NO_SCORE_LIMIT = 87 \n",
        "TIME_LIMIT = 2900\n",
        "FRAMES_PER_POINT = 60"
      ],
      "execution_count": null,
      "outputs": []
    },
    {
      "cell_type": "code",
      "metadata": {
        "id": "S-JwepmXHJUQ",
        "colab_type": "code",
        "colab": {}
      },
      "source": [
        "# Now we define the placeholder for our input i.e game state\n",
        "X = tf.compat.v1.placeholder(tf.float32, shape=X_shape)\n",
        "\n",
        "# we define a boolean called in_training_mode to toggle the training\n",
        "in_training_mode = tf.compat.v1.placeholder(tf.bool)"
      ],
      "execution_count": null,
      "outputs": []
    },
    {
      "cell_type": "markdown",
      "metadata": {
        "id": "B3BS7lsPHJUT",
        "colab_type": "text"
      },
      "source": [
        "### Q Networks\n",
        "* We build two Q networks, primary and target.\n",
        "* This allows training and data generation to occur concurrently.\n",
        "* That is why the network returns the network outputs and the network weights. "
      ]
    },
    {
      "cell_type": "code",
      "metadata": {
        "id": "ibqY86h4HJUU",
        "colab_type": "code",
        "colab": {}
      },
      "source": [
        "# we build our Q network, which takes the input X and generates Q values for all the actions in the state\n",
        "mainQ, mainQ_outputs = q_network(X, 'mainQ')\n",
        "\n",
        "# similarly we build our target Q network\n",
        "targetQ, targetQ_outputs = q_network(X, 'targetQ')\n"
      ],
      "execution_count": null,
      "outputs": []
    },
    {
      "cell_type": "code",
      "metadata": {
        "id": "ypgPvOWjHJUW",
        "colab_type": "code",
        "colab": {}
      },
      "source": [
        "# define the placeholder for our action values\n",
        "\n",
        "X_action = tf.compat.v1.placeholder(tf.int32, shape=(None,))\n",
        "Q_action = tf.reduce_sum(input_tensor=targetQ_outputs * tf.one_hot(X_action, n_outputs), axis=-1, keepdims=True)\n"
      ],
      "execution_count": null,
      "outputs": []
    },
    {
      "cell_type": "markdown",
      "metadata": {
        "id": "uDMmdLx1HJUz",
        "colab_type": "text"
      },
      "source": [
        "Copy the primary Q network parameters to the target  Q network"
      ]
    },
    {
      "cell_type": "code",
      "metadata": {
        "id": "Qdr6lsjmHJU1",
        "colab_type": "code",
        "colab": {}
      },
      "source": [
        "\n",
        "copy_op = [tf.compat.v1.assign(main_name, targetQ[var_name]) for var_name, main_name in mainQ.items()]\n",
        "copy_target_to_main = tf.group(*copy_op)\n"
      ],
      "execution_count": null,
      "outputs": []
    },
    {
      "cell_type": "markdown",
      "metadata": {
        "id": "9Ghb6bUyHJU5",
        "colab_type": "text"
      },
      "source": [
        "Compute and optimize loss using gradient descent optimizer\n"
      ]
    },
    {
      "cell_type": "code",
      "metadata": {
        "id": "jBHokSlGHJU6",
        "colab_type": "code",
        "colab": {}
      },
      "source": [
        "# define a placeholder for our output i.e action\n",
        "y = tf.compat.v1.placeholder(tf.float32, shape=(None,1))\n",
        "\n",
        "# now we calculate the loss which is the difference between actual value and predicted value\n",
        "loss = tf.reduce_mean(input_tensor=tf.square(y - Q_action))\n",
        "\n",
        "# we use adam optimizer for minimizing the loss\n",
        "optimizer = tf.compat.v1.train.AdamOptimizer(learning_rate)\n",
        "training_op = optimizer.minimize(loss)\n",
        "\n",
        "init = tf.compat.v1.global_variables_initializer()\n",
        "\n",
        "loss_summary = tf.compat.v1.summary.scalar('LOSS', loss)\n"
      ],
      "execution_count": null,
      "outputs": []
    },
    {
      "cell_type": "markdown",
      "metadata": {
        "id": "8HOaL7rfHJU_",
        "colab_type": "text"
      },
      "source": [
        "### Training Loop\n",
        "\n",
        "1. Preprocess game screen / state s\n",
        "2. Feed and s into Deep-Q NN\n",
        "3. Select action a using Q values of all possible actions and epsilon-greedy policy\n",
        "4. Perform action a state s which moves model to new state s' with reward r\n",
        "5. Store <s,a,r,s'> in buffer [ up to 2000 sequences ]\n",
        "6. Sample random batches of <s,a,r,s'> sequences to calculate the loss [ 48 batches ]\n",
        "7. Optimize network parameters to minimize loss [ every 4 steps ]\n",
        "8. Copy network weight from target to data generating [ every C steps ]\n",
        "6. Loop 1-5 M times\n",
        "\n",
        "\\* Loss = squared difference between target and predicted Q).\n",
        "\n",
        "\\* Epochs here exist since the data is analyzed in batches."
      ]
    },
    {
      "cell_type": "code",
      "metadata": {
        "scrolled": false,
        "id": "VWMSuB2cHJVA",
        "colab_type": "code",
        "colab": {
          "base_uri": "https://localhost:8080/",
          "height": 619
        },
        "outputId": "7b9cdede-6ffa-4a18-ae55-043635f81df5"
      },
      "source": [
        "with tf.compat.v1.Session() as sess:\n",
        "    init.run()\n",
        "    \n",
        "    # for each episode\n",
        "    history = []\n",
        "    for i in range(num_episodes):\n",
        "        done = False\n",
        "        obs = env.reset()\n",
        "        epoch = 0\n",
        "        episodic_reward = 0\n",
        "        game_score = 0\n",
        "        actions_counter = Counter() \n",
        "        episodic_loss = []\n",
        "\n",
        "        frame = 0\n",
        "        lastTimeScored = 0\n",
        "        lastTimeDeducted = 0\n",
        "\n",
        "        # while the game is not over\n",
        "        while not done:\n",
        "            # get the preprocessed game screen\n",
        "            obs = preprocess_observation(obs)\n",
        "\n",
        "            # feed the game screen and get the Q values for each action,  FEED THE NETWORK BY CALLING THE OUTPUT LAYER\n",
        "            actions = mainQ_outputs.eval(feed_dict={X:[obs], in_training_mode:False})\n",
        "\n",
        "            # get the action\n",
        "            action = np.argmax(actions, axis=-1)\n",
        "            actions_counter[str(action)] += 1 \n",
        "\n",
        "            # select the action using epsilon greedy policy\n",
        "            action = epsilon_greedy(action, global_step)\n",
        "\n",
        "            # now perform the action and move to the next state, next_obs, receive reward\n",
        "            next_obs, reward, done, _ = env.step(action)\n",
        "\n",
        "            # Store this transistion as an experience in the replay buffer! Quite important\n",
        "            exp_buffer.append([obs, action, preprocess_observation(next_obs), reward, done])\n",
        "            \n",
        "            # After certain steps, we train our Q network with samples from the experience replay buffer\n",
        "            if global_step % steps_train == 0 and global_step > start_steps:\n",
        "                \n",
        "                # sample experience, mem[:,0], mem[:,1], mem[:,2], mem[:,3], mem[:,4]\n",
        "                o_obs, o_act, o_next_obs, o_rew, o_done = sample_memories(batch_size)\n",
        "\n",
        "                # states\n",
        "                o_obs = [x for x in o_obs]\n",
        "\n",
        "                # next states\n",
        "                o_next_obs = [x for x in o_next_obs]\n",
        "\n",
        "                # next actions\n",
        "                next_act = mainQ_outputs.eval(feed_dict={X:o_next_obs, in_training_mode:False})\n",
        "\n",
        "\n",
        "                # discounted reward: these are our Y-values\n",
        "                y_batch = o_rew + discount_factor * np.max(next_act, axis=-1) * (1-o_done) \n",
        "\n",
        "                # To calculate the loss, we run the previously defined functions mentioned while feeding inputs\n",
        "                train_loss, _ = sess.run([loss, training_op], feed_dict={X:o_obs, y:np.expand_dims(y_batch, axis=-1), X_action:o_act, in_training_mode:True})\n",
        "                episodic_loss.append(train_loss)\n",
        "            \n",
        "            # after some interval we copy our main Q network weights to target Q network\n",
        "            if (global_step+1) % copy_steps == 0 and global_step > start_steps:\n",
        "                copy_target_to_main.run()\n",
        "                \n",
        "            obs = next_obs\n",
        "            epoch += 1\n",
        "            global_step += 1\n",
        "            game_score += reward\n",
        "            # Custom Reward Scoring:\n",
        "            if reward > 0:\n",
        "                lastTimeScored = frame\n",
        "                episodic_reward += reward\n",
        "            else:\n",
        "                if frame - lastTimeScored >= NO_SCORE_LIMIT:\n",
        "                    if frame - lastTimeDeducted >= FRAMES_PER_POINT:\n",
        "                        lastTimeDeducted = frame\n",
        "                        episodic_reward -= 10\n",
        "            if frame > TIME_LIMIT:\n",
        "                if frame - lastTimeDeducted >= FRAMES_PER_POINT:\n",
        "                    lastTimeDeducted = frame\n",
        "                    episodic_reward -= 10\n",
        "            frame += 1\n",
        "        \n",
        "        history.append(episodic_reward)\n",
        "        print('EPISODE NUMBER: {} || EPOCHS/EPISODE: {} || CLASSIC SCORE: {} || CUSTOM SCORE: {}'.format(len(history), epoch, game_score, episodic_reward))\n",
        "    \n",
        "\n"
      ],
      "execution_count": null,
      "outputs": [
        {
          "output_type": "stream",
          "text": [
            "EPISODE NUMBER: 1 || EPOCHS/EPISODE: 561 || CLASSIC SCORE: 200.0 || CUSTOM SCORE: 170.0\n",
            "EPISODE NUMBER: 2 || EPOCHS/EPISODE: 701 || CLASSIC SCORE: 290.0 || CUSTOM SCORE: 260.0\n",
            "EPISODE NUMBER: 3 || EPOCHS/EPISODE: 564 || CLASSIC SCORE: 140.0 || CUSTOM SCORE: 110.0\n",
            "EPISODE NUMBER: 4 || EPOCHS/EPISODE: 558 || CLASSIC SCORE: 200.0 || CUSTOM SCORE: 180.0\n",
            "EPISODE NUMBER: 5 || EPOCHS/EPISODE: 737 || CLASSIC SCORE: 270.0 || CUSTOM SCORE: 240.0\n",
            "EPISODE NUMBER: 6 || EPOCHS/EPISODE: 630 || CLASSIC SCORE: 320.0 || CUSTOM SCORE: 310.0\n",
            "EPISODE NUMBER: 7 || EPOCHS/EPISODE: 625 || CLASSIC SCORE: 180.0 || CUSTOM SCORE: 130.0\n",
            "EPISODE NUMBER: 8 || EPOCHS/EPISODE: 563 || CLASSIC SCORE: 210.0 || CUSTOM SCORE: 190.0\n",
            "EPISODE NUMBER: 9 || EPOCHS/EPISODE: 521 || CLASSIC SCORE: 180.0 || CUSTOM SCORE: 170.0\n",
            "EPISODE NUMBER: 10 || EPOCHS/EPISODE: 708 || CLASSIC SCORE: 190.0 || CUSTOM SCORE: 140.0\n",
            "EPISODE NUMBER: 11 || EPOCHS/EPISODE: 644 || CLASSIC SCORE: 140.0 || CUSTOM SCORE: 90.0\n",
            "EPISODE NUMBER: 12 || EPOCHS/EPISODE: 661 || CLASSIC SCORE: 250.0 || CUSTOM SCORE: 220.0\n",
            "EPISODE NUMBER: 13 || EPOCHS/EPISODE: 663 || CLASSIC SCORE: 250.0 || CUSTOM SCORE: 210.0\n"
          ],
          "name": "stdout"
        },
        {
          "output_type": "error",
          "ename": "KeyboardInterrupt",
          "evalue": "ignored",
          "traceback": [
            "\u001b[0;31m---------------------------------------------------------------------------\u001b[0m",
            "\u001b[0;31mKeyboardInterrupt\u001b[0m                         Traceback (most recent call last)",
            "\u001b[0;32m<ipython-input-391-71baa456593a>\u001b[0m in \u001b[0;36m<module>\u001b[0;34m()\u001b[0m\n\u001b[1;32m     33\u001b[0m \u001b[0;34m\u001b[0m\u001b[0m\n\u001b[1;32m     34\u001b[0m             \u001b[0;31m# now perform the action and move to the next state, next_obs, receive reward\u001b[0m\u001b[0;34m\u001b[0m\u001b[0;34m\u001b[0m\u001b[0;34m\u001b[0m\u001b[0m\n\u001b[0;32m---> 35\u001b[0;31m             \u001b[0mnext_obs\u001b[0m\u001b[0;34m,\u001b[0m \u001b[0mreward\u001b[0m\u001b[0;34m,\u001b[0m \u001b[0mdone\u001b[0m\u001b[0;34m,\u001b[0m \u001b[0m_\u001b[0m \u001b[0;34m=\u001b[0m \u001b[0menv\u001b[0m\u001b[0;34m.\u001b[0m\u001b[0mstep\u001b[0m\u001b[0;34m(\u001b[0m\u001b[0maction\u001b[0m\u001b[0;34m)\u001b[0m\u001b[0;34m\u001b[0m\u001b[0;34m\u001b[0m\u001b[0m\n\u001b[0m\u001b[1;32m     36\u001b[0m \u001b[0;34m\u001b[0m\u001b[0m\n\u001b[1;32m     37\u001b[0m             \u001b[0;31m# Store this transistion as an experience in the replay buffer! Quite important\u001b[0m\u001b[0;34m\u001b[0m\u001b[0;34m\u001b[0m\u001b[0;34m\u001b[0m\u001b[0m\n",
            "\u001b[0;32m/usr/local/lib/python3.6/dist-packages/gym/wrappers/time_limit.py\u001b[0m in \u001b[0;36mstep\u001b[0;34m(self, action)\u001b[0m\n\u001b[1;32m     14\u001b[0m     \u001b[0;32mdef\u001b[0m \u001b[0mstep\u001b[0m\u001b[0;34m(\u001b[0m\u001b[0mself\u001b[0m\u001b[0;34m,\u001b[0m \u001b[0maction\u001b[0m\u001b[0;34m)\u001b[0m\u001b[0;34m:\u001b[0m\u001b[0;34m\u001b[0m\u001b[0;34m\u001b[0m\u001b[0m\n\u001b[1;32m     15\u001b[0m         \u001b[0;32massert\u001b[0m \u001b[0mself\u001b[0m\u001b[0;34m.\u001b[0m\u001b[0m_elapsed_steps\u001b[0m \u001b[0;32mis\u001b[0m \u001b[0;32mnot\u001b[0m \u001b[0;32mNone\u001b[0m\u001b[0;34m,\u001b[0m \u001b[0;34m\"Cannot call env.step() before calling reset()\"\u001b[0m\u001b[0;34m\u001b[0m\u001b[0;34m\u001b[0m\u001b[0m\n\u001b[0;32m---> 16\u001b[0;31m         \u001b[0mobservation\u001b[0m\u001b[0;34m,\u001b[0m \u001b[0mreward\u001b[0m\u001b[0;34m,\u001b[0m \u001b[0mdone\u001b[0m\u001b[0;34m,\u001b[0m \u001b[0minfo\u001b[0m \u001b[0;34m=\u001b[0m \u001b[0mself\u001b[0m\u001b[0;34m.\u001b[0m\u001b[0menv\u001b[0m\u001b[0;34m.\u001b[0m\u001b[0mstep\u001b[0m\u001b[0;34m(\u001b[0m\u001b[0maction\u001b[0m\u001b[0;34m)\u001b[0m\u001b[0;34m\u001b[0m\u001b[0;34m\u001b[0m\u001b[0m\n\u001b[0m\u001b[1;32m     17\u001b[0m         \u001b[0mself\u001b[0m\u001b[0;34m.\u001b[0m\u001b[0m_elapsed_steps\u001b[0m \u001b[0;34m+=\u001b[0m \u001b[0;36m1\u001b[0m\u001b[0;34m\u001b[0m\u001b[0;34m\u001b[0m\u001b[0m\n\u001b[1;32m     18\u001b[0m         \u001b[0;32mif\u001b[0m \u001b[0mself\u001b[0m\u001b[0;34m.\u001b[0m\u001b[0m_elapsed_steps\u001b[0m \u001b[0;34m>=\u001b[0m \u001b[0mself\u001b[0m\u001b[0;34m.\u001b[0m\u001b[0m_max_episode_steps\u001b[0m\u001b[0;34m:\u001b[0m\u001b[0;34m\u001b[0m\u001b[0;34m\u001b[0m\u001b[0m\n",
            "\u001b[0;32m/usr/local/lib/python3.6/dist-packages/gym/envs/atari/atari_env.py\u001b[0m in \u001b[0;36mstep\u001b[0;34m(self, a)\u001b[0m\n\u001b[1;32m    118\u001b[0m             \u001b[0mnum_steps\u001b[0m \u001b[0;34m=\u001b[0m \u001b[0mself\u001b[0m\u001b[0;34m.\u001b[0m\u001b[0mnp_random\u001b[0m\u001b[0;34m.\u001b[0m\u001b[0mrandint\u001b[0m\u001b[0;34m(\u001b[0m\u001b[0mself\u001b[0m\u001b[0;34m.\u001b[0m\u001b[0mframeskip\u001b[0m\u001b[0;34m[\u001b[0m\u001b[0;36m0\u001b[0m\u001b[0;34m]\u001b[0m\u001b[0;34m,\u001b[0m \u001b[0mself\u001b[0m\u001b[0;34m.\u001b[0m\u001b[0mframeskip\u001b[0m\u001b[0;34m[\u001b[0m\u001b[0;36m1\u001b[0m\u001b[0;34m]\u001b[0m\u001b[0;34m)\u001b[0m\u001b[0;34m\u001b[0m\u001b[0;34m\u001b[0m\u001b[0m\n\u001b[1;32m    119\u001b[0m         \u001b[0;32mfor\u001b[0m \u001b[0m_\u001b[0m \u001b[0;32min\u001b[0m \u001b[0mrange\u001b[0m\u001b[0;34m(\u001b[0m\u001b[0mnum_steps\u001b[0m\u001b[0;34m)\u001b[0m\u001b[0;34m:\u001b[0m\u001b[0;34m\u001b[0m\u001b[0;34m\u001b[0m\u001b[0m\n\u001b[0;32m--> 120\u001b[0;31m             \u001b[0mreward\u001b[0m \u001b[0;34m+=\u001b[0m \u001b[0mself\u001b[0m\u001b[0;34m.\u001b[0m\u001b[0male\u001b[0m\u001b[0;34m.\u001b[0m\u001b[0mact\u001b[0m\u001b[0;34m(\u001b[0m\u001b[0maction\u001b[0m\u001b[0;34m)\u001b[0m\u001b[0;34m\u001b[0m\u001b[0;34m\u001b[0m\u001b[0m\n\u001b[0m\u001b[1;32m    121\u001b[0m         \u001b[0mob\u001b[0m \u001b[0;34m=\u001b[0m \u001b[0mself\u001b[0m\u001b[0;34m.\u001b[0m\u001b[0m_get_obs\u001b[0m\u001b[0;34m(\u001b[0m\u001b[0;34m)\u001b[0m\u001b[0;34m\u001b[0m\u001b[0;34m\u001b[0m\u001b[0m\n\u001b[1;32m    122\u001b[0m \u001b[0;34m\u001b[0m\u001b[0m\n",
            "\u001b[0;32m/usr/local/lib/python3.6/dist-packages/atari_py/ale_python_interface.py\u001b[0m in \u001b[0;36mact\u001b[0;34m(self, action)\u001b[0m\n\u001b[1;32m    150\u001b[0m \u001b[0;34m\u001b[0m\u001b[0m\n\u001b[1;32m    151\u001b[0m     \u001b[0;32mdef\u001b[0m \u001b[0mact\u001b[0m\u001b[0;34m(\u001b[0m\u001b[0mself\u001b[0m\u001b[0;34m,\u001b[0m \u001b[0maction\u001b[0m\u001b[0;34m)\u001b[0m\u001b[0;34m:\u001b[0m\u001b[0;34m\u001b[0m\u001b[0;34m\u001b[0m\u001b[0m\n\u001b[0;32m--> 152\u001b[0;31m         \u001b[0;32mreturn\u001b[0m \u001b[0male_lib\u001b[0m\u001b[0;34m.\u001b[0m\u001b[0mact\u001b[0m\u001b[0;34m(\u001b[0m\u001b[0mself\u001b[0m\u001b[0;34m.\u001b[0m\u001b[0mobj\u001b[0m\u001b[0;34m,\u001b[0m \u001b[0mint\u001b[0m\u001b[0;34m(\u001b[0m\u001b[0maction\u001b[0m\u001b[0;34m)\u001b[0m\u001b[0;34m)\u001b[0m\u001b[0;34m\u001b[0m\u001b[0;34m\u001b[0m\u001b[0m\n\u001b[0m\u001b[1;32m    153\u001b[0m \u001b[0;34m\u001b[0m\u001b[0m\n\u001b[1;32m    154\u001b[0m     \u001b[0;32mdef\u001b[0m \u001b[0mgame_over\u001b[0m\u001b[0;34m(\u001b[0m\u001b[0mself\u001b[0m\u001b[0;34m)\u001b[0m\u001b[0;34m:\u001b[0m\u001b[0;34m\u001b[0m\u001b[0;34m\u001b[0m\u001b[0m\n",
            "\u001b[0;31mKeyboardInterrupt\u001b[0m: "
          ]
        }
      ]
    },
    {
      "cell_type": "markdown",
      "metadata": {
        "id": "YlDxJthlN7Y0",
        "colab_type": "text"
      },
      "source": [
        "Let's plot our reward distribution across the incremental episodes. Remember to interrupt the training process first."
      ]
    },
    {
      "cell_type": "code",
      "metadata": {
        "id": "DAt912GCIJaf",
        "colab_type": "code",
        "colab": {
          "base_uri": "https://localhost:8080/",
          "height": 265
        },
        "outputId": "32a62b5f-1600-4018-8d69-e5095ea330d4"
      },
      "source": [
        "plt.plot(history)\n",
        "plt.show()"
      ],
      "execution_count": null,
      "outputs": [
        {
          "output_type": "display_data",
          "data": {
            "image/png": "[encoded data removed]",
            "text/plain": [
              "<Figure size 432x288 with 1 Axes>"
            ]
          },
          "metadata": {
            "tags": [],
            "needs_background": "light"
          }
        }
      ]
    },
    {
      "cell_type": "markdown",
      "metadata": {
        "id": "mwGRru2gOSGd",
        "colab_type": "text"
      },
      "source": [
        "## Evaluation\n",
        "\n",
        "Now that the model is trained we can have it play a game using OpenAIGym's environment and calculate the loss to analyze it's performance"
      ]
    },
    {
      "cell_type": "code",
      "metadata": {
        "id": "sDxqX-RdK3Nl",
        "colab_type": "code",
        "colab": {}
      },
      "source": [
        "# Dependencies first for graphics visualization within Colaboratory\n",
        "\n",
        "#remove \" > /dev/null 2>&1\" to see what is going on under the hood\n",
        "!pip install gym pyvirtualdisplay > /dev/null 2>&1\n",
        "!apt-get install -y xvfb python-opengl ffmpeg > /dev/null 2>&1\n",
        "\n",
        "!apt-get update > /dev/null 2>&1\n",
        "!apt-get install cmake > /dev/null 2>&1\n",
        "!pip install --upgrade setuptools 2>&1\n",
        "!pip install ez_setup > /dev/null 2>&1\n",
        "\n"
      ],
      "execution_count": null,
      "outputs": []
    },
    {
      "cell_type": "code",
      "metadata": {
        "id": "YA93cHCIIPlb",
        "colab_type": "code",
        "colab": {}
      },
      "source": [
        "#Use Ipython display to record video\n",
        "from gym import logger as gymlogger\n",
        "from gym.wrappers import Monitor\n",
        "gymlogger.set_level(40) #error only\n",
        "\n",
        "import numpy as np\n",
        "import random\n",
        "import matplotlib\n",
        "import matplotlib.pyplot as plt\n",
        "%matplotlib inline\n",
        "import math\n",
        "import glob\n",
        "import io\n",
        "import base64\n",
        "from IPython.display import HTML\n",
        "\n",
        "from IPython import display as ipythondisplay\n",
        "\n",
        "\n",
        "from pyvirtualdisplay import Display\n",
        "display = Display(visible=0, size=(1400, 900))\n",
        "display.start()"
      ],
      "execution_count": null,
      "outputs": []
    },
    {
      "cell_type": "code",
      "metadata": {
        "id": "TcKjTnaqISUz",
        "colab_type": "code",
        "colab": {}
      },
      "source": [
        "\"\"\"\n",
        "Utility functions to enable video recording of gym environment and displaying it\n",
        "To enable video, just do \"env = wrap_env(env)\"\"\n",
        "\"\"\"\n",
        "\n",
        "def show_video():\n",
        "  mp4list = glob.glob('video/*.mp4')\n",
        "  if len(mp4list) > 0:\n",
        "    mp4 = mp4list[0]\n",
        "    video = io.open(mp4, 'r+b').read()\n",
        "    encoded = base64.b64encode(video)\n",
        "    ipythondisplay.display(HTML(data='''<video alt=\"test\" autoplay \n",
        "                loop controls style=\"height: 400px;\">\n",
        "                <source src=\"data:video/mp4;base64,{0}\" type=\"video/mp4\" />\n",
        "             </video>'''.format(encoded.decode('ascii'))))\n",
        "  else: \n",
        "    print(\"Could not find video\")\n",
        "    \n",
        "\n",
        "def wrap_env(env):\n",
        "  env = Monitor(env, './video', force=True)\n",
        "  return env"
      ],
      "execution_count": null,
      "outputs": []
    },
    {
      "cell_type": "code",
      "metadata": {
        "id": "QnF5nZirIVQL",
        "colab_type": "code",
        "colab": {}
      },
      "source": [
        "#Evaluate model on openAi GYM\n",
        "env = wrap_env(gym.make('MsPacman-v0'))\n",
        "observation = env.reset()\n",
        "new_observation = observation\n",
        "\n",
        "prev_input = None\n",
        "done = False\n",
        "\n",
        "with tf.compat.v1.Session() as sess:\n",
        "    # For custom scoring.\n",
        "    frame = 0\n",
        "    lastTimeScored = 0\n",
        "    lastTimeDeducted = 0\n",
        "    game_score = 0\n",
        "    custom_score = 0\n",
        "\n",
        "    init.run()\n",
        "    while True:\n",
        "      if True: \n",
        "    \n",
        "        #set input to network to be difference image\n",
        "        obs = preprocess_observation(observation)\n",
        "\n",
        "        # feed the game screen and get the Q values for each action\n",
        "        actions = mainQ_outputs.eval(feed_dict={X:[obs], in_training_mode:False})\n",
        "\n",
        "        # get the action\n",
        "        action = np.argmax(actions, axis=-1)\n",
        "        actions_counter[str(action)] += 1 \n",
        "\n",
        "        # select the action using epsilon greedy policy\n",
        "        action = epsilon_greedy(action, global_step)\n",
        "        env.render()\n",
        "        observation = new_observation        \n",
        "        # now perform the action and move to the next state, next_obs, receive reward\n",
        "        new_observation, reward, done, _ = env.step(action)\n",
        "        \n",
        "        # scoring\n",
        "        game_score = game_score + reward\n",
        "        if reward > 0:\n",
        "                lastTimeScored = frame\n",
        "                custom_score += reward\n",
        "            else:\n",
        "                if frame - lastTimeScored >= NO_SCORE_LIMIT:\n",
        "                    if frame - lastTimeDeducted >= FRAMES_PER_POINT:\n",
        "                        lastTimeDeducted = frame\n",
        "                        custom_score -= 10\n",
        "            if frame > TIME_LIMIT:\n",
        "                if frame - lastTimeDeducted >= FRAMES_PER_POINT:\n",
        "                    lastTimeDeducted = frame\n",
        "                    custom_score -= 10\n",
        "        frame += 1\n",
        "\n",
        "        if done: \n",
        "          #observation = env.reset()\n",
        "          break\n",
        "      \n",
        "    env.close()\n",
        "    show_video()\n",
        "    print(\"Custom Score:\", custom_score, \"Game Score:\", game_score)"
      ],
      "execution_count": null,
      "outputs": []
    }
  ]
}